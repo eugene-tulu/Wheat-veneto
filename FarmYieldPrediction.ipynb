{
  "nbformat": 4,
  "nbformat_minor": 0,
  "metadata": {
    "colab": {
      "provenance": []
    },
    "kernelspec": {
      "name": "python3",
      "display_name": "Python 3"
    },
    "language_info": {
      "name": "python"
    }
  },
  "cells": [
    {
      "cell_type": "code",
      "source": [
        "# Uncomment cells before running"
      ],
      "metadata": {
        "id": "oJ3keBXhr4ts"
      },
      "execution_count": 1,
      "outputs": []
    },
    {
      "cell_type": "code",
      "execution_count": 2,
      "metadata": {
        "id": "KY0AwuKyKuU_"
      },
      "outputs": [],
      "source": [
        "# import pandas as pd\n",
        "# import geopandas as gpd\n",
        "# from pyproj import Transformer\n",
        "# import matplotlib.pyplot as plt\n",
        "# import plotly.express as px\n",
        "# import seaborn as sns\n",
        "# from sklearn.model_selection import train_test_split\n",
        "# from sklearn.tree import DecisionTreeRegressor\n",
        "# from sklearn.ensemble import RandomForestRegressor, GradientBoostingRegressor"
      ]
    },
    {
      "cell_type": "code",
      "source": [
        "# def wrangle_csv(filepath):\n",
        "#     df = pd.read_csv(filepath, index_col='ID')\n",
        "#     df.drop(columns=['ID_SM'], inplace=True)\n",
        "#     df.rename(columns={'CoordX_SM': 'x', 'CoordY_SM': 'y'}, inplace=True)\n",
        "#     # Define the projection (replace with your actual EPSG code)\n",
        "#     input_proj = 'EPSG:32632'  # Example for UTM Zone 33N\n",
        "#     output_proj = 'EPSG:4326'  # WGS84\n",
        "\n",
        "#     # Create a transformer object\n",
        "#     transformer = Transformer.from_crs(input_proj, output_proj, always_xy=True)\n",
        "\n",
        "#     # Perform the transformation\n",
        "#     df['longitude'], df['latitude'] = transformer.transform(df['x'].values, df['y'].values)\n",
        "\n",
        "#     return df"
      ],
      "metadata": {
        "id": "nVb0n_njnFc6"
      },
      "execution_count": 3,
      "outputs": []
    },
    {
      "cell_type": "code",
      "source": [
        "# df = wrangle_csv('/content/drive/MyDrive/Yield variation/0_Dados.csv')\n",
        "# df.head()"
      ],
      "metadata": {
        "id": "AE1motTQnfAi"
      },
      "execution_count": 4,
      "outputs": []
    },
    {
      "cell_type": "code",
      "source": [
        "# datasets = [df[i] for i in df.columns][:3] # Alter according to variables\n",
        "# fig, axes = plt.subplots(3, figsize=(10, 10))\n",
        "# axes = axes.flatten()\n",
        "# for ax, data in zip(axes, datasets):\n",
        "#     ax.hist(data)\n",
        "#     ax.set_title(f'{data.name} distribution')\n",
        "#     ax.set_xlabel('frequency')\n",
        "#     ax.set_ylabel('count')\n",
        "#     plt.tight_layout()"
      ],
      "metadata": {
        "id": "Am2DLTmjk-1H"
      },
      "execution_count": 5,
      "outputs": []
    },
    {
      "cell_type": "code",
      "source": [
        "# datasets = [df[i] for i in df.columns][:3] # Alter according to variables\n",
        "# fig, axes = plt.subplots(3, figsize=(5, 10))\n",
        "# axes = axes.flatten()\n",
        "# for ax, data in zip(axes, datasets):\n",
        "#     ax.scatter(data, df['Yield'])\n",
        "#     ax.set_title(f'yield vs {data.name}')\n",
        "#     ax.set_ylabel('yield')\n",
        "#     ax.set_xlabel(data.name)\n",
        "#     plt.tight_layout()"
      ],
      "metadata": {
        "id": "9uS7iLf6wxZo"
      },
      "execution_count": 6,
      "outputs": []
    },
    {
      "cell_type": "code",
      "source": [
        "# target='Yield'\n",
        "# X = df.drop(columns=['Yield', 'x', 'y', 'latitude', 'longitude'])\n",
        "# y = df[target]\n",
        "# print(X.shape)\n",
        "# print(y.shape)"
      ],
      "metadata": {
        "id": "38CNvy-Fuhj3"
      },
      "execution_count": 7,
      "outputs": []
    },
    {
      "cell_type": "code",
      "source": [
        "# X_train, X_test, y_train, y_test = train_test_split(X, y, test_size=0.2, random_state=42)"
      ],
      "metadata": {
        "id": "DOrPNNNmz5Dt"
      },
      "execution_count": 8,
      "outputs": []
    },
    {
      "cell_type": "code",
      "source": [
        "# print(f'X_train: {X_train.shape}')\n",
        "# print(f'X_test: {X_test.shape}')\n",
        "# print(f'y_train: {y_train.shape}')\n",
        "# print(f'y_test: {y_test.shape}')"
      ],
      "metadata": {
        "id": "QiooAFrM0TZT"
      },
      "execution_count": 9,
      "outputs": []
    },
    {
      "cell_type": "code",
      "source": [
        "# model = DecisionTreeRegressor(random_state=42)\n",
        "# model.fit(X_train, y_train)"
      ],
      "metadata": {
        "id": "wYiQyeWN1xbt"
      },
      "execution_count": 10,
      "outputs": []
    },
    {
      "cell_type": "code",
      "source": [
        "# from sklearn.metrics import mean_squared_error, r2_score, mean_absolute_error\n",
        "\n",
        "# # Make predictions on the test data\n",
        "# y_pred = model.predict(X_test)\n",
        "\n",
        "# # Evaluate the model\n",
        "# mae = mean_absolute_error(y_test, y_pred)\n",
        "# mse = mean_squared_error(y_test, y_pred)\n",
        "# r2 = r2_score(y_test, y_pred)\n",
        "\n",
        "# print(f'Mean Absolute Error: {mae:.3f}')\n",
        "# print(f'Mean Squared Error: {mse:.3f}')\n",
        "# print(f'R² Score: {r2:.3f}')"
      ],
      "metadata": {
        "id": "_SJnX6TW5yqJ"
      },
      "execution_count": 11,
      "outputs": []
    },
    {
      "cell_type": "code",
      "source": [
        "# # Get importances\n",
        "# importances = model.feature_importances_\n",
        "\n",
        "# # Put importances into a Series\n",
        "# feat_imp = pd.Series(importances, index=X_train.columns).sort_values()\n",
        "\n",
        "# # Plot series\n",
        "# feat_imp.plot(kind='barh')\n",
        "# plt.xlabel(\"Gini Importance\")\n",
        "# plt.ylabel(\"Feature\")\n",
        "# plt.title(\"model Feature Importance(DecisionTree)\");\n",
        "# plt.savefig('DecisionTree Feat Imp2')"
      ],
      "metadata": {
        "id": "rcceRTTR19XN"
      },
      "execution_count": 12,
      "outputs": []
    },
    {
      "cell_type": "code",
      "source": [
        "# rfmodel = RandomForestRegressor(random_state=42)\n",
        "# rfmodel.fit(X_train, y_train)"
      ],
      "metadata": {
        "id": "hpi6CJEZRvQM"
      },
      "execution_count": 13,
      "outputs": []
    },
    {
      "cell_type": "code",
      "source": [
        "# # Make predictions on the test data\n",
        "# y_pred = rfmodel.predict(X_test)\n",
        "\n",
        "# # Evaluate the model\n",
        "# rfmae = mean_absolute_error(y_test, y_pred)\n",
        "# rfmse = mean_squared_error(y_test, y_pred)\n",
        "# rfr2 = r2_score(y_test, y_pred)\n",
        "\n",
        "# print(f'Mean Absolute Error: {rfmae:.3f}')\n",
        "# print(f'Mean Squared Error: {rfmse:.3f}')\n",
        "# print(f'R² Score: {rfr2:.3f}')"
      ],
      "metadata": {
        "id": "S1syZDBbR-5o"
      },
      "execution_count": 14,
      "outputs": []
    },
    {
      "cell_type": "code",
      "source": [
        "# xgbmodel = GradientBoostingRegressor(random_state=42)\n",
        "# xgbmodel.fit(X_train, y_train)"
      ],
      "metadata": {
        "id": "jheeG0GwSvhx"
      },
      "execution_count": 15,
      "outputs": []
    },
    {
      "cell_type": "code",
      "source": [
        "# # Make predictions on the test data\n",
        "# y_pred = xgbmodel.predict(X_test)\n",
        "\n",
        "# # Evaluate the model\n",
        "# xgbmae = mean_absolute_error(y_test, y_pred)\n",
        "# xgbmse = mean_squared_error(y_test, y_pred)\n",
        "# xgbr2 = r2_score(y_test, y_pred)\n",
        "\n",
        "# print(f'Mean Absolute Error: {xgbmae:.3f}')\n",
        "# print(f'Mean Squared Error: {xgbmse:.3f}')\n",
        "# print(f'R² Score: {xgbr2:.3f}')"
      ],
      "metadata": {
        "id": "oBPWSg6ETIUh"
      },
      "execution_count": 16,
      "outputs": []
    },
    {
      "cell_type": "code",
      "source": [
        "# rf_pred = rfmodel.predict(X)\n",
        "# df['rf_yield'] = rf_pred\n",
        "\n",
        "# xgb_pred = xgbmodel.predict(X)\n",
        "# df['xgb_yield'] = xgb_pred\n",
        "\n",
        "# df.head()"
      ],
      "metadata": {
        "id": "NONBBgBrwpYR"
      },
      "execution_count": 17,
      "outputs": []
    },
    {
      "cell_type": "code",
      "source": [
        "# df.to_csv('yield_predictions.csv')"
      ],
      "metadata": {
        "id": "GNSULlKbw4jq"
      },
      "execution_count": 18,
      "outputs": []
    },
    {
      "cell_type": "code",
      "source": [
        "# import folium\n",
        "# from folium.plugins import HeatMap\n",
        "\n",
        "# # Sample data: list of [latitude, longitude, value]\n",
        "# data = df[['latitude', 'longitude', 'Yield']].values.tolist()\n",
        "# # Create a base map\n",
        "# m = folium.Map(location=[45.1789, 12.093], zoom_start=16)\n",
        "\n",
        "# # Create a heatmap layer\n",
        "# HeatMap(data).add_to(m)\n",
        "\n",
        "# # Save or display the map\n",
        "# m.save('heatmap.html')\n",
        "# m"
      ],
      "metadata": {
        "id": "BFbnXzi7_S14"
      },
      "execution_count": 19,
      "outputs": []
    }
  ]
}